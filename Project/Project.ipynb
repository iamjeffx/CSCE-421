{
 "cells": [
  {
   "cell_type": "markdown",
   "metadata": {},
   "source": [
    "# CSCE 421 Final Project\n",
    "\n",
    "Jeffrey Xu  \n",
    "Prof. Mortazavi  \n",
    "CSCE 421  \n",
    "11/11/2020  "
   ]
  },
  {
   "cell_type": "markdown",
   "metadata": {},
   "source": [
    "We start by making sure the versions of our improts are correct. We can do this by using pip. "
   ]
  },
  {
   "cell_type": "code",
   "execution_count": 1,
   "metadata": {},
   "outputs": [
    {
     "name": "stdout",
     "output_type": "stream",
     "text": [
      "Collecting Pillow==6.6.2\n"
     ]
    },
    {
     "name": "stderr",
     "output_type": "stream",
     "text": [
      "  ERROR: Could not find a version that satisfies the requirement Pillow==6.6.2 (from versions: 1.0, 1.1, 1.2, 1.3, 1.4, 1.5, 1.6, 1.7.0, 1.7.1, 1.7.2, 1.7.3, 1.7.4, 1.7.5, 1.7.6, 1.7.7, 1.7.8, 2.0.0, 2.1.0, 2.2.0, 2.2.1, 2.2.2, 2.3.0, 2.3.1, 2.3.2, 2.4.0, 2.5.0, 2.5.1, 2.5.2, 2.5.3, 2.6.0, 2.6.1, 2.6.2, 2.7.0, 2.8.0, 2.8.1, 2.8.2, 2.9.0, 3.0.0, 3.1.0rc1, 3.1.0, 3.1.1, 3.1.2, 3.2.0, 3.3.0, 3.3.1, 3.3.2, 3.3.3, 3.4.0, 3.4.1, 3.4.2, 4.0.0, 4.1.0, 4.1.1, 4.2.0, 4.2.1, 4.3.0, 5.0.0, 5.1.0, 5.2.0, 5.3.0, 5.4.0, 5.4.1, 6.0.0, 6.1.0, 6.2.0, 6.2.1, 6.2.2, 7.0.0, 7.1.0, 7.1.1, 7.1.2, 7.2.0, 8.0.0, 8.0.1)\n",
      "ERROR: No matching distribution found for Pillow==6.6.2\n"
     ]
    },
    {
     "name": "stdout",
     "output_type": "stream",
     "text": [
      "Requirement already satisfied: torchvision==0.2.1 in c:\\users\\jeffr\\anaconda3\\lib\\site-packages (0.2.1)\n",
      "Requirement already satisfied: numpy in c:\\users\\jeffr\\anaconda3\\lib\\site-packages (from torchvision==0.2.1) (1.16.5)\n",
      "Requirement already satisfied: pillow>=4.1.1 in c:\\users\\jeffr\\anaconda3\\lib\\site-packages (from torchvision==0.2.1) (6.2.0)\n",
      "Requirement already satisfied: six in c:\\users\\jeffr\\anaconda3\\lib\\site-packages (from torchvision==0.2.1) (1.12.0)\n",
      "Requirement already satisfied: torch in c:\\users\\jeffr\\anaconda3\\lib\\site-packages (from torchvision==0.2.1) (0.4.1)\n"
     ]
    }
   ],
   "source": [
    "!pip install Pillow==6.6.2\n",
    "!pip install torchvision==0.2.1"
   ]
  },
  {
   "cell_type": "markdown",
   "metadata": {},
   "source": [
    "Now we import all the required libraries for this project. "
   ]
  },
  {
   "cell_type": "code",
   "execution_count": 9,
   "metadata": {},
   "outputs": [],
   "source": [
    "import argparse\n",
    "import random\n",
    "import copy\n",
    "import torch\n",
    "import torchvision\n",
    "import numpy as np\n",
    "import pandas as pd\n",
    "import sklearn.metrics as sm\n",
    "import torch.nn.functional as F\n",
    "import matplotlib.pyplot as plt\n",
    "import seaborn as sns"
   ]
  },
  {
   "cell_type": "markdown",
   "metadata": {},
   "source": [
    "We also set some initial hyperparameters. These values can change depending on how we want to implement our models. "
   ]
  },
  {
   "cell_type": "code",
   "execution_count": 5,
   "metadata": {},
   "outputs": [],
   "source": [
    "batch_size = 64\n",
    "test_batch_size = 1000\n",
    "seed = 42\n",
    "nrow = 5\n",
    "ncol = 10"
   ]
  },
  {
   "cell_type": "markdown",
   "metadata": {},
   "source": [
    "Now we load in the training datasets that we are going to use for this project. "
   ]
  },
  {
   "cell_type": "code",
   "execution_count": 7,
   "metadata": {},
   "outputs": [],
   "source": [
    "imbalanced_linear_train_dataset = torch.load('imbalanced_linear_train_dataset.pt')\n",
    "imbalanced_linear_train_loader = torch.utils.data.DataLoader(imbalanced_linear_train_dataset,\n",
    "                                                             batch_size=batch_size, shuffle=True)\n",
    "\n",
    "imbalanced_step_train_dataset = torch.load('imbalanced_step_train_dataset.pt')\n",
    "imbalanced_step_train_loader = torch.utils.data.DataLoader(imbalanced_step_train_dataset, batch_size=batch_size,\n",
    "                                                           shuffle=True)"
   ]
  },
  {
   "cell_type": "markdown",
   "metadata": {},
   "source": [
    "Now we load in the testing datasets for this project. "
   ]
  },
  {
   "cell_type": "code",
   "execution_count": 8,
   "metadata": {},
   "outputs": [],
   "source": [
    "test_dataset = torch.load('test_dataset.pt')\n",
    "test_loader = torch.utils.data.DataLoader(test_dataset, batch_size=test_batch_size, shuffle=True)"
   ]
  },
  {
   "cell_type": "markdown",
   "metadata": {},
   "source": [
    "We define a function that shows the distribution of the MNIST dataset. "
   ]
  },
  {
   "cell_type": "code",
   "execution_count": 11,
   "metadata": {},
   "outputs": [],
   "source": [
    "def show_mnist(arr, nrow=nrow, ncol=ncol, figsize=None):\n",
    "    if figsize is None:\n",
    "        figsize = (ncol, nrow)\n",
    "\n",
    "    f, a = plt.subplots(nrow, ncol, figsize=figsize)\n",
    "\n",
    "    def _do_show(the_figure, the_array):\n",
    "        the_figure.imshow(the_array)\n",
    "        the_figure.axis('off')\n",
    "\n",
    "    for i in range(nrow):\n",
    "        for j in range(ncol):\n",
    "            _do_show(a[i][j], np.reshape(arr[i * ncol + j], (28, 28)))\n",
    "\n",
    "    plt.subplots_adjust(wspace=0.1, hspace=0.1)\n",
    "    plt.draw()\n",
    "    plt.savefig('examples.png')"
   ]
  },
  {
   "cell_type": "markdown",
   "metadata": {},
   "source": [
    "Here, we display the distribution of our MNIST dataset. "
   ]
  },
  {
   "cell_type": "code",
   "execution_count": 12,
   "metadata": {},
   "outputs": [
    {
     "name": "stdout",
     "output_type": "stream",
     "text": [
      "Distribution of classes in linear imbalanced dataset:\n"
     ]
    },
    {
     "data": {
      "image/png": "[encoded data removed]",
      "text/plain": [
       "<Figure size 432x288 with 1 Axes>"
      ]
     },
     "metadata": {
      "needs_background": "light"
     },
     "output_type": "display_data"
    }
   ],
   "source": [
    "print('Distribution of classes in linear imbalanced dataset:')\n",
    "fig, ax = plt.subplots()\n",
    "_, counts = np.unique(imbalanced_linear_train_loader.dataset.train_labels, return_counts=True)\n",
    "num_classes = 10\n",
    "classe_labels = range(num_classes)\n",
    "ax.bar(classe_labels, counts)\n",
    "ax.set_xticks(classe_labels)\n",
    "plt.savefig('dist linear.png')\n",
    "plt.show()"
   ]
  },
  {
   "cell_type": "code",
   "execution_count": null,
   "metadata": {},
   "outputs": [],
   "source": []
  }
 ],
 "metadata": {
  "kernelspec": {
   "display_name": "Python 3",
   "language": "python",
   "name": "python3"
  },
  "language_info": {
   "codemirror_mode": {
    "name": "ipython",
    "version": 3
   },
   "file_extension": ".py",
   "mimetype": "text/x-python",
   "name": "python",
   "nbconvert_exporter": "python",
   "pygments_lexer": "ipython3",
   "version": "3.7.4"
  }
 },
 "nbformat": 4,
 "nbformat_minor": 2
}
