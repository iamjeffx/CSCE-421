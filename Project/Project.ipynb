{
 "cells": [
  {
   "cell_type": "markdown",
   "metadata": {},
   "source": [
    "# CSCE 421 Final Project\n",
    "\n",
    "Jeffrey Xu  \n",
    "Prof. Mortazavi  \n",
    "CSCE 421  \n",
    "11/11/2020  "
   ]
  },
  {
   "cell_type": "markdown",
   "metadata": {},
   "source": [
    "## Abstract\n",
    "Image classification has been an interesting field within AI and machine learning for many years now. There are many different machine learning models that can perform the task of image classification. Finding the best model however can be quite tricky as different models have different strengths and weaknesses. We explore the effectiveness of some unique machine learning models that can perform image classification and analyze the performance of each model on the MNIST digit dataset. "
   ]
  },
  {
   "cell_type": "code",
   "execution_count": 2,
   "metadata": {},
   "outputs": [],
   "source": [
    "import warnings\n",
    "warnings.filterwarnings(\"ignore\")"
   ]
  },
  {
   "cell_type": "markdown",
   "metadata": {},
   "source": [
    "We start by making sure the versions of our imports are correct. We can do this by using pip. "
   ]
  },
  {
   "cell_type": "code",
   "execution_count": 40,
   "metadata": {},
   "outputs": [
    {
     "name": "stdout",
     "output_type": "stream",
     "text": [
      "Requirement already satisfied: torchvision==0.2.1 in c:\\users\\jeffr\\anaconda3\\lib\\site-packages (0.2.1)\n",
      "Requirement already satisfied: numpy in c:\\users\\jeffr\\anaconda3\\lib\\site-packages (from torchvision==0.2.1) (1.16.5)\n",
      "Requirement already satisfied: pillow>=4.1.1 in c:\\users\\jeffr\\anaconda3\\lib\\site-packages (from torchvision==0.2.1) (6.2.0)\n",
      "Requirement already satisfied: six in c:\\users\\jeffr\\anaconda3\\lib\\site-packages (from torchvision==0.2.1) (1.12.0)\n",
      "Requirement already satisfied: torch in c:\\users\\jeffr\\anaconda3\\lib\\site-packages (from torchvision==0.2.1) (0.4.1)\n",
      "Requirement already satisfied: scikit-learn==0.23.2 in c:\\users\\jeffr\\anaconda3\\lib\\site-packages (0.23.2)\n",
      "Requirement already satisfied: threadpoolctl>=2.0.0 in c:\\users\\jeffr\\anaconda3\\lib\\site-packages (from scikit-learn==0.23.2) (2.1.0)\n",
      "Requirement already satisfied: scipy>=0.19.1 in c:\\users\\jeffr\\anaconda3\\lib\\site-packages (from scikit-learn==0.23.2) (1.4.1)\n",
      "Requirement already satisfied: numpy>=1.13.3 in c:\\users\\jeffr\\anaconda3\\lib\\site-packages (from scikit-learn==0.23.2) (1.16.5)\n",
      "Requirement already satisfied: joblib>=0.11 in c:\\users\\jeffr\\anaconda3\\lib\\site-packages (from scikit-learn==0.23.2) (0.13.2)\n"
     ]
    }
   ],
   "source": [
    "!pip install torchvision==0.2.1\n",
    "!pip install scikit-learn==0.23.2"
   ]
  },
  {
   "cell_type": "markdown",
   "metadata": {},
   "source": [
    "Now we import all the required libraries for this project. "
   ]
  },
  {
   "cell_type": "code",
   "execution_count": 3,
   "metadata": {},
   "outputs": [],
   "source": [
    "import argparse\n",
    "import random\n",
    "import copy\n",
    "import torch\n",
    "import torchvision\n",
    "import numpy as np\n",
    "import pandas as pd\n",
    "import sklearn.metrics as sm\n",
    "import torch.nn.functional as F\n",
    "import matplotlib.pyplot as plt\n",
    "import seaborn as sns\n",
    "from sklearn.metrics import roc_auc_score\n",
    "import pandas as pd"
   ]
  },
  {
   "cell_type": "markdown",
   "metadata": {},
   "source": [
    "We also set some initial hyperparameters. These values can change depending on how we want to implement our models. "
   ]
  },
  {
   "cell_type": "code",
   "execution_count": 29,
   "metadata": {},
   "outputs": [
    {
     "data": {
      "text/plain": [
       "<torch._C.Generator at 0x1cc37b00290>"
      ]
     },
     "execution_count": 29,
     "metadata": {},
     "output_type": "execute_result"
    }
   ],
   "source": [
    "parser = argparse.ArgumentParser(description='Imbalanced MNIST Example')\n",
    "parser.add_argument(\"-f\")\n",
    "parser.add_argument('--batch-size', type=int, default=64, metavar='N',\n",
    "                    help='input batch size for training (default: 64)')\n",
    "parser.add_argument('--test-batch-size', type=int, default=1000, metavar='N',\n",
    "                    help='input batch size for testing (default: 1000)')\n",
    "parser.add_argument('--seed', type=int, default=42, metavar='S',\n",
    "                    help='random seed (default: 42)')\n",
    "parser.add_argument('--nrow', type=int, default=5,\n",
    "                    help='rows of example')\n",
    "parser.add_argument('--ncol', type=int, default=10,\n",
    "                    help='columns of example')\n",
    "parser.add_argument('--n-epochs', type=int, default=3,\n",
    "                   help='number of epochs')\n",
    "parser.add_argument('--learning-rate', type=float, default=0.01,\n",
    "                   help='learning rate')\n",
    "parser.add_argument('--momentum', type=float, default=0.5, \n",
    "                   help='momentum')\n",
    "parser.add_argument('--log-interval', type=int, default=10,\n",
    "                   help='log interval')\n",
    "\n",
    "args = parser.parse_args()\n",
    "\n",
    "torch.manual_seed(args.seed)\n",
    "\n",
    "random_seed = 1\n",
    "torch.backends.cudnn.enabled = False\n",
    "torch.manual_seed(random_seed)"
   ]
  },
  {
   "cell_type": "markdown",
   "metadata": {},
   "source": [
    "Now we load in the training datasets that we are going to use for this project. "
   ]
  },
  {
   "cell_type": "code",
   "execution_count": 5,
   "metadata": {},
   "outputs": [],
   "source": [
    "imbalanced_linear_train_dataset = torch.load('imbalanced_linear_train_dataset.pt')\n",
    "imbalanced_linear_train_loader = torch.utils.data.DataLoader(imbalanced_linear_train_dataset,\n",
    "                                                             batch_size=args.batch_size, shuffle=True)\n",
    "\n",
    "imbalanced_step_train_dataset = torch.load('imbalanced_step_train_dataset.pt')\n",
    "imbalanced_step_train_loader = torch.utils.data.DataLoader(imbalanced_step_train_dataset, batch_size=args.batch_size,\n",
    "                                                           shuffle=True)"
   ]
  },
  {
   "cell_type": "code",
   "execution_count": 6,
   "metadata": {},
   "outputs": [],
   "source": [
    "X_linear = []\n",
    "y_linear = []\n",
    "\n",
    "for data in imbalanced_linear_train_dataset:\n",
    "    X_linear.append(np.array(data[0]).flatten())\n",
    "    y_linear.append(int(data[1]))\n",
    "    \n",
    "X_linear = np.array(X_linear)\n",
    "y_linear = np.array(y_linear)"
   ]
  },
  {
   "cell_type": "code",
   "execution_count": 7,
   "metadata": {},
   "outputs": [],
   "source": [
    "X_step = []\n",
    "y_step = []\n",
    "\n",
    "for data in imbalanced_step_train_dataset:\n",
    "    X_step.append(np.array(data[0]).flatten())\n",
    "    y_step.append(int(data[1]))\n",
    "    \n",
    "X_step = np.array(X_linear)\n",
    "y_step = np.array(y_step)"
   ]
  },
  {
   "cell_type": "markdown",
   "metadata": {},
   "source": [
    "Now we load in the testing datasets for this project. "
   ]
  },
  {
   "cell_type": "code",
   "execution_count": 8,
   "metadata": {},
   "outputs": [],
   "source": [
    "test_dataset = torch.load('test_dataset.pt')\n",
    "test_loader = torch.utils.data.DataLoader(test_dataset, batch_size=args.test_batch_size, shuffle=True)"
   ]
  },
  {
   "cell_type": "code",
   "execution_count": 9,
   "metadata": {},
   "outputs": [],
   "source": [
    "X_test = []\n",
    "y_test = []\n",
    "\n",
    "for data in test_dataset:\n",
    "    X_test.append(np.array(data[0]).flatten())\n",
    "    y_test.append(int(data[1]))\n",
    "    \n",
    "X_test = np.array(X_test)\n",
    "y_test = np.array(y_test)"
   ]
  },
  {
   "cell_type": "markdown",
   "metadata": {},
   "source": [
    "We define a function that shows the distribution of the MNIST dataset. "
   ]
  },
  {
   "cell_type": "code",
   "execution_count": 10,
   "metadata": {},
   "outputs": [],
   "source": [
    "def show_mnist(arr, nrow=args.nrow, ncol=args.ncol, figsize=None):\n",
    "    if figsize is None:\n",
    "        figsize = (ncol, nrow)\n",
    "\n",
    "    f, a = plt.subplots(nrow, ncol, figsize=figsize)\n",
    "\n",
    "    def _do_show(the_figure, the_array):\n",
    "        the_figure.imshow(the_array)\n",
    "        the_figure.axis('off')\n",
    "\n",
    "    for i in range(nrow):\n",
    "        for j in range(ncol):\n",
    "            _do_show(a[i][j], np.reshape(arr[i * ncol + j], (28, 28)))\n",
    "\n",
    "    plt.subplots_adjust(wspace=0.1, hspace=0.1)\n",
    "    plt.draw()\n",
    "    plt.savefig('examples.png')"
   ]
  },
  {
   "cell_type": "markdown",
   "metadata": {},
   "source": [
    "Here, we display the distribution of our MNIST dataset. "
   ]
  },
  {
   "cell_type": "code",
   "execution_count": 11,
   "metadata": {},
   "outputs": [
    {
     "name": "stdout",
     "output_type": "stream",
     "text": [
      "Distribution of classes in linear imbalanced dataset:\n"
     ]
    },
    {
     "data": {
      "image/png": "[encoded data removed]",
      "text/plain": [
       "<Figure size 432x288 with 1 Axes>"
      ]
     },
     "metadata": {
      "needs_background": "light"
     },
     "output_type": "display_data"
    }
   ],
   "source": [
    "print('Distribution of classes in linear imbalanced dataset:')\n",
    "fig, ax = plt.subplots()\n",
    "_, counts = np.unique(imbalanced_linear_train_loader.dataset.train_labels, return_counts=True)\n",
    "num_classes = 10\n",
    "classe_labels = range(num_classes)\n",
    "ax.bar(classe_labels, counts)\n",
    "ax.set_xticks(classe_labels)\n",
    "plt.savefig('dist linear.png')\n",
    "plt.show()"
   ]
  },
  {
   "cell_type": "code",
   "execution_count": 12,
   "metadata": {},
   "outputs": [
    {
     "name": "stdout",
     "output_type": "stream",
     "text": [
      "Distribution of classes in step imbalanced dataset:\n"
     ]
    },
    {
     "data": {
      "image/png": "[encoded data removed]",
      "text/plain": [
       "<Figure size 432x288 with 1 Axes>"
      ]
     },
     "metadata": {
      "needs_background": "light"
     },
     "output_type": "display_data"
    }
   ],
   "source": [
    "print('Distribution of classes in step imbalanced dataset:')\n",
    "fig, ax = plt.subplots()\n",
    "_, counts = np.unique(imbalanced_step_train_loader.dataset.train_labels, return_counts=True)\n",
    "num_classes = 10\n",
    "classe_labels = range(num_classes)\n",
    "ax.bar(classe_labels, counts)\n",
    "ax.set_xticks(classe_labels)\n",
    "plt.savefig('dist step.png')\n",
    "plt.show()"
   ]
  },
  {
   "cell_type": "markdown",
   "metadata": {},
   "source": [
    "Below, we show the numbers used in each dataset. "
   ]
  },
  {
   "cell_type": "code",
   "execution_count": 13,
   "metadata": {},
   "outputs": [
    {
     "data": {
      "image/png": "[encoded data removed]",
      "text/plain": [
       "<Figure size 720x360 with 50 Axes>"
      ]
     },
     "metadata": {
      "needs_background": "light"
     },
     "output_type": "display_data"
    },
    {
     "data": {
      "image/png": "[encoded data removed]",
      "text/plain": [
       "<Figure size 720x360 with 50 Axes>"
      ]
     },
     "metadata": {
      "needs_background": "light"
     },
     "output_type": "display_data"
    }
   ],
   "source": [
    "for data, _ in imbalanced_linear_train_loader:\n",
    "    show_mnist(data)\n",
    "    break\n",
    "\n",
    "for data, _ in imbalanced_step_train_loader:\n",
    "    show_mnist(data)\n",
    "    break"
   ]
  },
  {
   "cell_type": "markdown",
   "metadata": {},
   "source": [
    "## Logistic Regression\n",
    "Our first model to test on this MNIST dataset is logistic regression. We start by importing the model in from *sklearn*."
   ]
  },
  {
   "cell_type": "code",
   "execution_count": 14,
   "metadata": {},
   "outputs": [],
   "source": [
    "from sklearn.linear_model import LogisticRegression\n",
    "from sklearn.model_selection import StratifiedKFold"
   ]
  },
  {
   "cell_type": "markdown",
   "metadata": {},
   "source": [
    "We will also perform Cross Validation on the training data to determine the best hyperparameters to use for our logistical model here. We also need to implement a multiclass roc score function to accurately test how well our model is doing despite the imbalance of the given dataset. "
   ]
  },
  {
   "cell_type": "code",
   "execution_count": 15,
   "metadata": {},
   "outputs": [],
   "source": [
    "def roc_auc_score_multiclass(actual_class, pred_class, average=\"macro\"):\n",
    "    # Creating a set of all the unique classes using the actual class list\n",
    "    unique_class = set(actual_class)\n",
    "    roc_auc_dict = {}\n",
    "    for per_class in unique_class:\n",
    "        # Creating a list of all the classes except the current class \n",
    "        other_class = [x for x in unique_class if x != per_class]\n",
    "\n",
    "        # Marking the current class as 1 and all other classes as 0\n",
    "        new_actual_class = [0 if x in other_class else 1 for x in actual_class]\n",
    "        new_pred_class = [0 if x in other_class else 1 for x in pred_class]\n",
    "\n",
    "        # Using the sklearn metrics method to calculate the roc_auc_score\n",
    "        roc_auc = roc_auc_score(new_actual_class, new_pred_class, average = average)\n",
    "        roc_auc_dict[per_class] = roc_auc\n",
    "\n",
    "    # Computing the average roc auc score\n",
    "    total = 0\n",
    "    for item in roc_auc_dict.values():\n",
    "        total += item\n",
    "        \n",
    "    return total/len(roc_auc_dict.values())\n",
    "\n",
    "def max_val(d):\n",
    "    max = 0\n",
    "    max_element = 0\n",
    "    for item in d.keys():\n",
    "        if d[item] > max:\n",
    "            max = d[item]\n",
    "            max_element = item\n",
    "    return max_element"
   ]
  },
  {
   "cell_type": "code",
   "execution_count": 16,
   "metadata": {},
   "outputs": [
    {
     "name": "stdout",
     "output_type": "stream",
     "text": [
      "Fold 1 completed\n",
      "Fold 2 completed\n",
      "Fold 3 completed\n",
      "Fold 4 completed\n",
      "Fold 5 completed\n"
     ]
    }
   ],
   "source": [
    "num_folds = 5\n",
    "c_vals = [100, 10, 1.0, 0.1, 0.01]\n",
    "auc_dict = {100:0, 10:0, 1.0:0, 0.1:0, 0.01:0}\n",
    "count = 1\n",
    "\n",
    "skf = StratifiedKFold(n_splits=num_folds, shuffle=True)\n",
    "for train_index, test_index in skf.split(X_linear, y_linear):\n",
    "    x_train, x_test = pd.DataFrame(X_linear).iloc[train_index], pd.DataFrame(X_linear).iloc[test_index]\n",
    "    Y_train, Y_test = pd.DataFrame(y_linear).iloc[train_index], pd.DataFrame(y_linear).iloc[test_index]\n",
    "    \n",
    "    for c in c_vals:\n",
    "        log_regressor = LogisticRegression(solver=\"lbfgs\", C=c)\n",
    "        log_regressor.fit(x_train, Y_train)\n",
    "        \n",
    "        pred = log_regressor.predict(x_test)\n",
    "        auc_dict[c] += roc_auc_score_multiclass(np.array(Y_test).T[0], pred) / 5\n",
    "    print(\"Fold \" + str(count) + \" completed\")\n",
    "    count += 1"
   ]
  },
  {
   "cell_type": "code",
   "execution_count": 17,
   "metadata": {},
   "outputs": [
    {
     "name": "stdout",
     "output_type": "stream",
     "text": [
      "Best C value: 0.01\n"
     ]
    }
   ],
   "source": [
    "print(\"Best C value: \" + str(max_val(auc_dict)))"
   ]
  },
  {
   "cell_type": "markdown",
   "metadata": {},
   "source": [
    "Now we fit our Logistic Regression model to our data. "
   ]
  },
  {
   "cell_type": "code",
   "execution_count": 18,
   "metadata": {},
   "outputs": [],
   "source": [
    "log_model = LogisticRegression(solver=\"lbfgs\", C=max_val(auc_dict)).fit(X_linear, y_linear)"
   ]
  },
  {
   "cell_type": "code",
   "execution_count": 19,
   "metadata": {},
   "outputs": [],
   "source": [
    "pred = log_model.predict(X_test)"
   ]
  },
  {
   "cell_type": "code",
   "execution_count": 20,
   "metadata": {},
   "outputs": [
    {
     "name": "stdout",
     "output_type": "stream",
     "text": [
      "AUC ROC multiclass score for linear dataset: 0.9487503087729172\n"
     ]
    }
   ],
   "source": [
    "print(\"AUC ROC multiclass score for linear dataset: \" + str(roc_auc_score_multiclass(y_test, pred)))"
   ]
  },
  {
   "cell_type": "markdown",
   "metadata": {},
   "source": [
    "## Random Forest"
   ]
  },
  {
   "cell_type": "markdown",
   "metadata": {},
   "source": [
    "Now we try to fit another model to classify the MNIST digits dataset. "
   ]
  },
  {
   "cell_type": "code",
   "execution_count": 27,
   "metadata": {},
   "outputs": [],
   "source": [
    "from sklearn.ensemble import RandomForestClassifier"
   ]
  },
  {
   "cell_type": "markdown",
   "metadata": {},
   "source": [
    "Now we want to perform Cross validation on our dataset to determine the best hyperparameters for our Random Forest classifier. "
   ]
  },
  {
   "cell_type": "code",
   "execution_count": 47,
   "metadata": {},
   "outputs": [],
   "source": [
    "def Cross_Validate_Models_RF(max_trees, X_train, y_train):\n",
    "    # Create splitter object\n",
    "    n_folds = 10\n",
    "    splitter = StratifiedKFold(n_splits=n_folds, shuffle=True).split(X_train, y_train)\n",
    "    \n",
    "    # Performance\n",
    "    gini_perf = []\n",
    "    entropy_perf = []\n",
    "    gini_train = []\n",
    "    entropy_train = []\n",
    "    for i in max_trees:\n",
    "        gini_perf.append([])\n",
    "        entropy_perf.append([])\n",
    "        gini_train.append([])\n",
    "        entropy_train.append([])\n",
    "    \n",
    "    fold = 1\n",
    "    \n",
    "    # Cross Validation\n",
    "    for train_index, test_index in splitter:\n",
    "        # Split training data for CV\n",
    "        X_train_CV, X_test_CV = X_train.iloc[train_index], X_train.iloc[test_index]\n",
    "        y_train_CV, y_test_CV = y_train.iloc[train_index].values.ravel(), y_train.iloc[test_index].values.ravel()\n",
    "        \n",
    "        index = 0\n",
    "        \n",
    "        # Iterate through all different depths\n",
    "        for d in max_trees:\n",
    "            model_gini = RandomForestClassifier(criterion='gini', n_estimators=d, \n",
    "                                                min_impurity_decrease=0.0, min_samples_split=2)\n",
    "            model_entropy = RandomForestClassifier(criterion='entropy', n_estimators=d, \n",
    "                                                   min_impurity_decrease=0.0, min_samples_split=2)\n",
    "            model_gini.fit(X_train_CV, y_train_CV)\n",
    "            model_entropy.fit(X_train_CV, y_train_CV)\n",
    "\n",
    "            pred_gini = model_gini.predict(X_test_CV)\n",
    "            pred_entropy = model_entropy.predict(X_test_CV)\n",
    "            \n",
    "            train_gini_pred = model_gini.predict(X_train_CV)\n",
    "            train_entropy_pred = model_entropy.predict(X_train_CV)\n",
    "\n",
    "            gini_perf[index].append(roc_auc_score_multiclass(y_test_CV, pred_gini))\n",
    "            entropy_perf[index].append(roc_auc_score_multiclass(y_test_CV, pred_entropy))\n",
    "            \n",
    "            gini_train[index].append(roc_auc_score_multiclass(y_train_CV, train_gini_pred))\n",
    "            entropy_train[index].append(roc_auc_score_multiclass(y_train_CV, train_entropy_pred))\n",
    "            \n",
    "            index += 1\n",
    "        print('Fold ' + str(fold) + ' completed')\n",
    "        fold += 1\n",
    "    return gini_perf, entropy_perf, gini_train, entropy_train"
   ]
  },
  {
   "cell_type": "code",
   "execution_count": 49,
   "metadata": {},
   "outputs": [
    {
     "name": "stdout",
     "output_type": "stream",
     "text": [
      "Fold 1 completed\n",
      "Fold 2 completed\n",
      "Fold 3 completed\n",
      "Fold 4 completed\n",
      "Fold 5 completed\n",
      "Fold 6 completed\n",
      "Fold 7 completed\n",
      "Fold 8 completed\n",
      "Fold 9 completed\n",
      "Fold 10 completed\n"
     ]
    }
   ],
   "source": [
    "d = [20, 40, 60, 80, 100]\n",
    "gini_perf_RF, entropy_perf_RF, gini_train_RF, entropy_train_RF = Cross_Validate_Models_RF(d, \n",
    "                                                                                          pd.DataFrame(X_linear), \n",
    "                                                                                          pd.DataFrame(y_linear))"
   ]
  },
  {
   "cell_type": "code",
   "execution_count": 60,
   "metadata": {},
   "outputs": [
    {
     "name": "stdout",
     "output_type": "stream",
     "text": [
      "Best max-depth for the gini model: 80, ROC AUC score: 0.9629171337927371\n",
      "Best max-depth for the entropy model: 100, ROC AUC score: 0.9643911336867406\n"
     ]
    }
   ],
   "source": [
    "# Determine the best depth for each model\n",
    "max_trees_gini_RF = d[np.argmax(np.mean(gini_perf_RF, axis=1))]\n",
    "max_trees_entropy_RF = d[np.argmax(np.mean(entropy_perf_RF, axis=1))]\n",
    "auc_roc_score_gini = np.max(np.mean(gini_perf_RF, axis=1))\n",
    "auc_roc_score_entropy = np.max(np.mean(entropy_perf_RF, axis=1))\n",
    "\n",
    "print('Best max-depth for the gini model: ' + str(max_trees_gini_RF) + \n",
    "      \", ROC AUC score: \" + str(auc_roc_score_gini))\n",
    "print('Best max-depth for the entropy model: ' + str(max_trees_entropy_RF)  + \n",
    "      \", ROC AUC score: \" + str(auc_roc_score_entropy))"
   ]
  },
  {
   "cell_type": "markdown",
   "metadata": {},
   "source": [
    "Now that we've performed Cross Validation, we generate our model using the best hyperparameters determined from the Cross Validation run. "
   ]
  },
  {
   "cell_type": "code",
   "execution_count": 57,
   "metadata": {},
   "outputs": [
    {
     "data": {
      "text/plain": [
       "RandomForestClassifier(criterion='entropy')"
      ]
     },
     "execution_count": 57,
     "metadata": {},
     "output_type": "execute_result"
    }
   ],
   "source": [
    "model_type = ''\n",
    "num_trees = 0\n",
    "if auc_roc_score_gini > auc_roc_score_entropy:\n",
    "    model_type = 'gini'\n",
    "    num_trees = max_trees_gini_RF\n",
    "else:\n",
    "    model_type = 'entropy'\n",
    "    num_trees = max_trees_entropy_RF\n",
    "    \n",
    "RF_model = RandomForestClassifier(criterion=model_type, n_estimators=num_trees, \n",
    "                                   min_impurity_decrease=0.0, min_samples_split=2)\n",
    "RF_model.fit(X_linear, y_linear)"
   ]
  },
  {
   "cell_type": "code",
   "execution_count": 61,
   "metadata": {},
   "outputs": [
    {
     "name": "stdout",
     "output_type": "stream",
     "text": [
      "ROC Score: 0.9712842994817216\n"
     ]
    }
   ],
   "source": [
    "RF_pred = RF_model.predict(X_test)\n",
    "print('ROC Score: ' + str(roc_auc_score_multiclass(y_test, RF_pred)))"
   ]
  },
  {
   "cell_type": "markdown",
   "metadata": {},
   "source": [
    "We notice a significant increase in the accuracy once we started to use the Random Forest classifier compared to the Logistic Regression classifier. "
   ]
  },
  {
   "cell_type": "markdown",
   "metadata": {},
   "source": [
    "## Convolutional Neural Network"
   ]
  },
  {
   "cell_type": "markdown",
   "metadata": {},
   "source": [
    "Now we want to use a Convolutional Neural Network as our model to predict digits. We will be using the PyTorch library to help generate the CNN model. We need to start by generating our CNN class object."
   ]
  },
  {
   "cell_type": "code",
   "execution_count": 22,
   "metadata": {},
   "outputs": [],
   "source": [
    "from torch import nn\n",
    "import torch.nn.functional as F\n",
    "import torch.optim as optim"
   ]
  },
  {
   "cell_type": "code",
   "execution_count": 23,
   "metadata": {},
   "outputs": [],
   "source": [
    "class CNN(nn.Module):\n",
    "    def __init__(self):\n",
    "        super(CNN, self).__init__()\n",
    "        self.conv1 = nn.Conv2d(1, 10, kernel_size=5)\n",
    "        self.conv2 = nn.Conv2d(10, 20, kernel_size=5)\n",
    "        self.conv2_drop = nn.Dropout2d()\n",
    "        self.fc1 = nn.Linear(320, 50)\n",
    "        self.fc2 = nn.Linear(50, 10)\n",
    "    def forward(self, x):\n",
    "        x = F.relu(F.max_pool2d(self.conv1(x), 2))\n",
    "        x = F.relu(F.max_pool2d(self.conv2_drop(self.conv2(x)), 2))\n",
    "        x = x.view(-1, 320)\n",
    "        x = F.relu(self.fc1(x))\n",
    "        x = F.dropout(x, training=self.training)\n",
    "        x = self.fc2(x)\n",
    "        return F.log_softmax(x)"
   ]
  },
  {
   "cell_type": "code",
   "execution_count": 30,
   "metadata": {},
   "outputs": [],
   "source": [
    "network = CNN()\n",
    "optimizer = optim.SGD(network.parameters(), lr=args.learning_rate, momentum=args.momentum)"
   ]
  }
 ],
 "metadata": {
  "kernelspec": {
   "display_name": "Python 3",
   "language": "python",
   "name": "python3"
  },
  "language_info": {
   "codemirror_mode": {
    "name": "ipython",
    "version": 3
   },
   "file_extension": ".py",
   "mimetype": "text/x-python",
   "name": "python",
   "nbconvert_exporter": "python",
   "pygments_lexer": "ipython3",
   "version": "3.7.4"
  }
 },
 "nbformat": 4,
 "nbformat_minor": 2
}
