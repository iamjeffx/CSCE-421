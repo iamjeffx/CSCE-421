{
 "cells": [
  {
   "cell_type": "markdown",
   "metadata": {},
   "source": [
    "# Homework 5\n",
    "Jeffrey Xu   \n",
    "11/02/2020  \n",
    "Professor Mortazavi"
   ]
  },
  {
   "cell_type": "markdown",
   "metadata": {},
   "source": [
    "## Problem 1: Gradient Boosting"
   ]
  },
  {
   "cell_type": "markdown",
   "metadata": {},
   "source": [
    "## Problem 2: Random Forest\n",
    "\n",
    "**Classifying benign vs malignant tumors:** We would like to classify if a tumor is benign or malign based on its attributes. We use data from the Breast Cancer Wisconsin Data Set of the UCI Machine Learning Repository: *https://archive.ics.uci.edu/m1/datasets/breast+cancer+wisconsin+(original)*. The input file is named \"hw5_question2.csv\" for our experiments. The rows of these files refer to the data samples, while the columns denote the deatures (columns 1-9) and the outcome variable (column 10), as described bellow:\n",
    "\n",
    "1. Clump Thickness: discrete values {1,10}  \n",
    "2. Uniformity of Cell Size: discrete values {1,10}  \n",
    "3. Uniformity of Cell Shape: discrete values {1,10}  \n",
    "4. Marginal Adhesion: discrete values {1,10}  \n",
    "5. Single Epithelial Cell Size: discrete values {1,10}  \n",
    "6. Bare Nuclei: discrete values {1,10}\n",
    "7. Bland Chromatin: discrete values {1,10}  \n",
    "8. Normal Nucleoli: discrete values {1,10}  \n",
    "9. Mitoses: discrete values {1,10}  \n",
    "10. Class: 2 for benign, 4 for malignant (this is the **outcome** variable)"
   ]
  },
  {
   "cell_type": "markdown",
   "metadata": {},
   "source": [
    "**(a)** Compute the number of samples belonging to the benign and the number of samples belonging to the malignant case. What do you observe? Are the two classes equally represented in the data? Separate the data into a train (2/3 of the data) and a test (1/3 of the data) set. Make sure that both classes are represented with the same proportion in both sets. "
   ]
  },
  {
   "cell_type": "code",
   "execution_count": 56,
   "metadata": {},
   "outputs": [],
   "source": [
    "# Imports\n",
    "import pandas as pd\n",
    "from sklearn.model_selection import train_test_split\n",
    "import numpy as np\n",
    "\n",
    "# Load data\n",
    "data = pd.read_csv(\"hw5_question2.csv\", header=None)"
   ]
  },
  {
   "cell_type": "code",
   "execution_count": 18,
   "metadata": {},
   "outputs": [],
   "source": [
    "# Extract features and labels \n",
    "X = data.drop([9], axis=1)\n",
    "y = data[9].replace(2,0).replace(4,1)"
   ]
  },
  {
   "cell_type": "code",
   "execution_count": 19,
   "metadata": {},
   "outputs": [
    {
     "data": {
      "text/html": [
       "<div>\n",
       "<style scoped>\n",
       "    .dataframe tbody tr th:only-of-type {\n",
       "        vertical-align: middle;\n",
       "    }\n",
       "\n",
       "    .dataframe tbody tr th {\n",
       "        vertical-align: top;\n",
       "    }\n",
       "\n",
       "    .dataframe thead th {\n",
       "        text-align: right;\n",
       "    }\n",
       "</style>\n",
       "<table border=\"1\" class=\"dataframe\">\n",
       "  <thead>\n",
       "    <tr style=\"text-align: right;\">\n",
       "      <th></th>\n",
       "      <th>0</th>\n",
       "      <th>1</th>\n",
       "      <th>2</th>\n",
       "      <th>3</th>\n",
       "      <th>4</th>\n",
       "      <th>5</th>\n",
       "      <th>6</th>\n",
       "      <th>7</th>\n",
       "      <th>8</th>\n",
       "    </tr>\n",
       "  </thead>\n",
       "  <tbody>\n",
       "    <tr>\n",
       "      <td>0</td>\n",
       "      <td>5</td>\n",
       "      <td>1</td>\n",
       "      <td>1</td>\n",
       "      <td>1</td>\n",
       "      <td>2</td>\n",
       "      <td>1</td>\n",
       "      <td>3</td>\n",
       "      <td>1</td>\n",
       "      <td>1</td>\n",
       "    </tr>\n",
       "    <tr>\n",
       "      <td>1</td>\n",
       "      <td>5</td>\n",
       "      <td>4</td>\n",
       "      <td>4</td>\n",
       "      <td>5</td>\n",
       "      <td>7</td>\n",
       "      <td>10</td>\n",
       "      <td>3</td>\n",
       "      <td>2</td>\n",
       "      <td>1</td>\n",
       "    </tr>\n",
       "    <tr>\n",
       "      <td>2</td>\n",
       "      <td>3</td>\n",
       "      <td>1</td>\n",
       "      <td>1</td>\n",
       "      <td>1</td>\n",
       "      <td>2</td>\n",
       "      <td>2</td>\n",
       "      <td>3</td>\n",
       "      <td>1</td>\n",
       "      <td>1</td>\n",
       "    </tr>\n",
       "    <tr>\n",
       "      <td>3</td>\n",
       "      <td>6</td>\n",
       "      <td>8</td>\n",
       "      <td>8</td>\n",
       "      <td>1</td>\n",
       "      <td>3</td>\n",
       "      <td>4</td>\n",
       "      <td>3</td>\n",
       "      <td>7</td>\n",
       "      <td>1</td>\n",
       "    </tr>\n",
       "    <tr>\n",
       "      <td>4</td>\n",
       "      <td>4</td>\n",
       "      <td>1</td>\n",
       "      <td>1</td>\n",
       "      <td>3</td>\n",
       "      <td>2</td>\n",
       "      <td>1</td>\n",
       "      <td>3</td>\n",
       "      <td>1</td>\n",
       "      <td>1</td>\n",
       "    </tr>\n",
       "    <tr>\n",
       "      <td>...</td>\n",
       "      <td>...</td>\n",
       "      <td>...</td>\n",
       "      <td>...</td>\n",
       "      <td>...</td>\n",
       "      <td>...</td>\n",
       "      <td>...</td>\n",
       "      <td>...</td>\n",
       "      <td>...</td>\n",
       "      <td>...</td>\n",
       "    </tr>\n",
       "    <tr>\n",
       "      <td>678</td>\n",
       "      <td>3</td>\n",
       "      <td>1</td>\n",
       "      <td>1</td>\n",
       "      <td>1</td>\n",
       "      <td>3</td>\n",
       "      <td>2</td>\n",
       "      <td>1</td>\n",
       "      <td>1</td>\n",
       "      <td>1</td>\n",
       "    </tr>\n",
       "    <tr>\n",
       "      <td>679</td>\n",
       "      <td>2</td>\n",
       "      <td>1</td>\n",
       "      <td>1</td>\n",
       "      <td>1</td>\n",
       "      <td>2</td>\n",
       "      <td>1</td>\n",
       "      <td>1</td>\n",
       "      <td>1</td>\n",
       "      <td>1</td>\n",
       "    </tr>\n",
       "    <tr>\n",
       "      <td>680</td>\n",
       "      <td>5</td>\n",
       "      <td>10</td>\n",
       "      <td>10</td>\n",
       "      <td>3</td>\n",
       "      <td>7</td>\n",
       "      <td>3</td>\n",
       "      <td>8</td>\n",
       "      <td>10</td>\n",
       "      <td>2</td>\n",
       "    </tr>\n",
       "    <tr>\n",
       "      <td>681</td>\n",
       "      <td>4</td>\n",
       "      <td>8</td>\n",
       "      <td>6</td>\n",
       "      <td>4</td>\n",
       "      <td>3</td>\n",
       "      <td>4</td>\n",
       "      <td>10</td>\n",
       "      <td>6</td>\n",
       "      <td>1</td>\n",
       "    </tr>\n",
       "    <tr>\n",
       "      <td>682</td>\n",
       "      <td>4</td>\n",
       "      <td>8</td>\n",
       "      <td>8</td>\n",
       "      <td>5</td>\n",
       "      <td>4</td>\n",
       "      <td>5</td>\n",
       "      <td>10</td>\n",
       "      <td>4</td>\n",
       "      <td>1</td>\n",
       "    </tr>\n",
       "  </tbody>\n",
       "</table>\n",
       "<p>683 rows × 9 columns</p>\n",
       "</div>"
      ],
      "text/plain": [
       "     0   1   2  3  4   5   6   7  8\n",
       "0    5   1   1  1  2   1   3   1  1\n",
       "1    5   4   4  5  7  10   3   2  1\n",
       "2    3   1   1  1  2   2   3   1  1\n",
       "3    6   8   8  1  3   4   3   7  1\n",
       "4    4   1   1  3  2   1   3   1  1\n",
       "..  ..  ..  .. .. ..  ..  ..  .. ..\n",
       "678  3   1   1  1  3   2   1   1  1\n",
       "679  2   1   1  1  2   1   1   1  1\n",
       "680  5  10  10  3  7   3   8  10  2\n",
       "681  4   8   6  4  3   4  10   6  1\n",
       "682  4   8   8  5  4   5  10   4  1\n",
       "\n",
       "[683 rows x 9 columns]"
      ]
     },
     "execution_count": 19,
     "metadata": {},
     "output_type": "execute_result"
    }
   ],
   "source": [
    "X"
   ]
  },
  {
   "cell_type": "code",
   "execution_count": 20,
   "metadata": {},
   "outputs": [
    {
     "data": {
      "text/plain": [
       "0      0\n",
       "1      0\n",
       "2      0\n",
       "3      0\n",
       "4      0\n",
       "      ..\n",
       "678    0\n",
       "679    0\n",
       "680    1\n",
       "681    1\n",
       "682    1\n",
       "Name: 9, Length: 683, dtype: int64"
      ]
     },
     "execution_count": 20,
     "metadata": {},
     "output_type": "execute_result"
    }
   ],
   "source": [
    "y"
   ]
  },
  {
   "cell_type": "markdown",
   "metadata": {},
   "source": [
    "Now we need to look at the distribution of bengin and malignant cases. We first display the amount that is in each class. "
   ]
  },
  {
   "cell_type": "code",
   "execution_count": 21,
   "metadata": {},
   "outputs": [
    {
     "name": "stdout",
     "output_type": "stream",
     "text": [
      "0    444\n",
      "1    239\n",
      "Name: 9, dtype: int64\n"
     ]
    }
   ],
   "source": [
    "# Output the number of benign and malignant cases\n",
    "print(y.value_counts())"
   ]
  },
  {
   "cell_type": "markdown",
   "metadata": {},
   "source": [
    "We notice that these two classes aren't necessarily distributed equally. We see that there are almost double the amount of benign cases compared to the number of malignant cases. However, now we want to split our dataset into a third testing and two thirds training while keeping this class distribution consistent through both datasets. "
   ]
  },
  {
   "cell_type": "code",
   "execution_count": 22,
   "metadata": {},
   "outputs": [],
   "source": [
    "# Split the data\n",
    "X_train, X_test, y_train, y_test = train_test_split(X, y, test_size=0.33, random_state=0)"
   ]
  },
  {
   "cell_type": "code",
   "execution_count": 23,
   "metadata": {},
   "outputs": [
    {
     "name": "stdout",
     "output_type": "stream",
     "text": [
      "Label distribution for training data:\n",
      "0    302\n",
      "1    155\n",
      "Name: 9, dtype: int64\n",
      "\n",
      "Label distribution for testing data:\n",
      "0    142\n",
      "1     84\n",
      "Name: 9, dtype: int64\n"
     ]
    }
   ],
   "source": [
    "print('Label distribution for training data:')\n",
    "print(y_train.value_counts())\n",
    "print()\n",
    "\n",
    "print('Label distribution for testing data:')\n",
    "print(y_test.value_counts())"
   ]
  },
  {
   "cell_type": "markdown",
   "metadata": {},
   "source": [
    "We notice by checking the split data, that the proportions of each class is about equal to the total proportions within the entire dataset. Therefore, we have properly analyzed and split the input data. Also, note that the sklearn *train_test_split* function defaults to straitify the dataset which gives equal proportions of each class. "
   ]
  },
  {
   "cell_type": "markdown",
   "metadata": {},
   "source": [
    "**(b)** *Implement* two decision trees using the training samples. The splitting criterion for the first one should be the entropy, while for the second one should be the gini index. Plot the 10-fold stratified cross validated accuracy on the train and test data while the maximum depth in the tree increases for both splitting criteria. Do you observe any differences in practice? "
   ]
  },
  {
   "cell_type": "code",
   "execution_count": 24,
   "metadata": {},
   "outputs": [],
   "source": [
    "# Imports\n",
    "from sklearn.model_selection import StratifiedKFold, KFold\n",
    "from sklearn.metrics import roc_auc_score\n",
    "from sklearn.tree import DecisionTreeClassifier"
   ]
  },
  {
   "cell_type": "code",
   "execution_count": 51,
   "metadata": {},
   "outputs": [],
   "source": [
    "def Cross_Validate_Models(d):\n",
    "    # Create splitter object\n",
    "    n_folds = 10\n",
    "    splitter = StratifiedKFold(n_splits=n_folds, shuffle=True).split(X_train, y_train)\n",
    "    \n",
    "    # Performance\n",
    "    gini_perf = []\n",
    "    entropy_perf = []\n",
    "    gini_train = []\n",
    "    entropy_train = []\n",
    "    for i in max_depth:\n",
    "        gini_perf.append([])\n",
    "        entropy_perf.append([])\n",
    "        gini_train.append([])\n",
    "        entropy_train.append([])\n",
    "    \n",
    "    fold = 1\n",
    "    \n",
    "    # Cross Validation\n",
    "    for train_index, test_index in splitter:\n",
    "        # Split training data for CV\n",
    "        X_train_CV, X_test_CV = X_train.iloc[train_index], X_train.iloc[test_index]\n",
    "        y_train_CV, y_test_CV = y_train.iloc[train_index].values.ravel(), y_train.iloc[test_index].values.ravel()\n",
    "\n",
    "        # Iterate through all different depths\n",
    "        for d in max_depth:\n",
    "            model_gini = DecisionTreeClassifier(criterion='gini', max_depth=d, \n",
    "                                                min_impurity_decrease=0.0, min_samples_split=2)\n",
    "            model_entropy = DecisionTreeClassifier(criterion='entropy', max_depth=d, \n",
    "                                                   min_impurity_decrease=0.0, min_samples_split=2)\n",
    "            model_gini.fit(X_train_CV, y_train_CV)\n",
    "            model_entropy.fit(X_train_CV, y_train_CV)\n",
    "\n",
    "            pred_gini = model_gini.predict(X_test_CV)\n",
    "            pred_entropy = model_entropy.predict(X_test_CV)\n",
    "            \n",
    "            train_gini_pred = model_gini.predict(X_train_CV)\n",
    "            train_entropy_pred = model_entropy.predict(X_train_CV)\n",
    "\n",
    "            gini_perf[d - 1].append(roc_auc_score(y_test_CV, pred_gini))\n",
    "            entropy_perf[d - 1].append(roc_auc_score(y_test_CV, pred_entropy))\n",
    "            \n",
    "            gini_train[d - 1].append(roc_auc_score(y_train_CV, train_gini_pred))\n",
    "            entropy_train[d - 1].append(roc_auc_score(y_train_CV, train_entropy_pred))\n",
    "        print('Fold ' + str(fold) + ' completed')\n",
    "        fold += 1\n",
    "    return gini_perf, entropy_perf, gini_train, entropy_train"
   ]
  },
  {
   "cell_type": "code",
   "execution_count": 69,
   "metadata": {},
   "outputs": [
    {
     "name": "stdout",
     "output_type": "stream",
     "text": [
      "Fold 1 completed\n",
      "Fold 2 completed\n",
      "Fold 3 completed\n",
      "Fold 4 completed\n",
      "Fold 5 completed\n",
      "Fold 6 completed\n",
      "Fold 7 completed\n",
      "Fold 8 completed\n",
      "Fold 9 completed\n",
      "Fold 10 completed\n"
     ]
    }
   ],
   "source": [
    "# Max-depths\n",
    "max_depth = [x for x in range(1, 11)]\n",
    "\n",
    "# Compute CV\n",
    "gini_perf, entropy_perf, gini_train, entropy_train = Cross_Validate_Models(max_depth)"
   ]
  },
  {
   "cell_type": "code",
   "execution_count": 48,
   "metadata": {},
   "outputs": [],
   "source": [
    "# Plotting imports\n",
    "import matplotlib.pyplot as plt"
   ]
  },
  {
   "cell_type": "code",
   "execution_count": 76,
   "metadata": {},
   "outputs": [
    {
     "data": {
      "image/png": "[encoded data removed]",
      "text/plain": [
       "<Figure size 432x288 with 1 Axes>"
      ]
     },
     "metadata": {
      "needs_background": "light"
     },
     "output_type": "display_data"
    }
   ],
   "source": [
    "plt.plot(max_depth, np.mean(gini_perf, axis=1), label='Gini test performance')\n",
    "plt.plot(max_depth, np.mean(entropy_perf, axis=1), label='Entropy test performance')\n",
    "plt.plot(max_depth, np.mean(gini_train, axis=1), label='Gini training performance')\n",
    "plt.plot(max_depth, np.mean(entropy_train, axis=1), label='Entropy training performance')\n",
    "plt.title('Max Depth vs ROC AUC')\n",
    "plt.xlabel('Max Depth')\n",
    "plt.ylabel('ROC AUC')\n",
    "plt.legend()\n",
    "plt.show()"
   ]
  },
  {
   "cell_type": "markdown",
   "metadata": {},
   "source": [
    "We notice that the Gini index and Entropy loss functions give around the same performance here. Both models have perfect training error after the max depth go to around a depth of 7 and both models level out at about 0.96 testing error. Due to the nature of this dataset, we see that after around a depth of 5 for each tree, the models basically begin to level out. This is probably because our classification is binary. With more classes, we could see that more layers in each decision tree is required. "
   ]
  },
  {
   "cell_type": "markdown",
   "metadata": {},
   "source": [
    "**(c)** *Feature Importance* Run a 10-fold stratified cross-validation for modeling this problem with a random forest model. You can choose to do a secondary 10-fold cross-validation on the training set in each fold to find the optimal number of trees and depth of each tree if you choose. Is this model more accurate (averaged over all 10 folds) than the decision trees? As ranked by the feature important, please provide a ranking of the features as their average position (standard deviation) of the rank order. Is this ranking it by Gini, Mean Decrease in Acccuracy, or something else? What should the final model's list of features be? Please justify your answer. "
   ]
  }
 ],
 "metadata": {
  "kernelspec": {
   "display_name": "Python 3",
   "language": "python",
   "name": "python3"
  },
  "language_info": {
   "codemirror_mode": {
    "name": "ipython",
    "version": 3
   },
   "file_extension": ".py",
   "mimetype": "text/x-python",
   "name": "python",
   "nbconvert_exporter": "python",
   "pygments_lexer": "ipython3",
   "version": "3.7.4"
  }
 },
 "nbformat": 4,
 "nbformat_minor": 2
}
