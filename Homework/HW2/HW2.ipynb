{
 "cells": [
  {
   "cell_type": "markdown",
   "metadata": {},
   "source": [
    "# Homework 2\n",
    "\n",
    "### Jeffrey Xu\n",
    "### Professor Mortazavi\n",
    "### 09/21/2020"
   ]
  },
  {
   "cell_type": "markdown",
   "metadata": {},
   "source": [
    "## Problem 1: \n",
    "In this question, we will learn about data preprocessing. More specifically, we want to prepare the data\n",
    "so that it will be ready for being fed into a machine learning model. Generally, the data contains missing\n",
    "values and also has categorical (non-numerical) values. We will learn how to prepare such data.\n",
    "The dataset we will use in this assignment is called Hitters (can be downloaded from https://github.com/jcrouser/islrpython/blob/master/data/Hitters.csv).\n",
    "Your submission should include a script which can be run seamlessly and performs all the following\n",
    "steps one after another. Any submission with a runtime error would result in lost points.\n",
    "\n",
    "**You may use libraries and you do not need to implement anything from scratch.**\n",
    "\n",
    "**(1)** Download and read the data. For Python, you may use *pandas* library and use *read csv* function. "
   ]
  },
  {
   "cell_type": "code",
   "execution_count": 19,
   "metadata": {},
   "outputs": [],
   "source": [
    "import pandas as pd\n",
    "\n",
    "data = pd.read_csv(\"Hitters.csv\")"
   ]
  },
  {
   "cell_type": "markdown",
   "metadata": {},
   "source": [
    "**(2)** Print the data. How does the data look like? (For Python, you may use *head()* function in *pandas* library)"
   ]
  },
  {
   "cell_type": "code",
   "execution_count": 20,
   "metadata": {},
   "outputs": [
    {
     "name": "stdout",
     "output_type": "stream",
     "text": [
      "              Player  AtBat  Hits  HmRun  Runs  RBI  Walks  Years  CAtBat  \\\n",
      "0     -Andy Allanson    293    66      1    30   29     14      1     293   \n",
      "1        -Alan Ashby    315    81      7    24   38     39     14    3449   \n",
      "2       -Alvin Davis    479   130     18    66   72     76      3    1624   \n",
      "3      -Andre Dawson    496   141     20    65   78     37     11    5628   \n",
      "4  -Andres Galarraga    321    87     10    39   42     30      2     396   \n",
      "\n",
      "   CHits  ...  CRuns  CRBI  CWalks  League Division PutOuts  Assists  Errors  \\\n",
      "0     66  ...     30    29      14       A        E     446       33      20   \n",
      "1    835  ...    321   414     375       N        W     632       43      10   \n",
      "2    457  ...    224   266     263       A        W     880       82      14   \n",
      "3   1575  ...    828   838     354       N        E     200       11       3   \n",
      "4    101  ...     48    46      33       N        E     805       40       4   \n",
      "\n",
      "   Salary  NewLeague  \n",
      "0     NaN          A  \n",
      "1   475.0          N  \n",
      "2   480.0          A  \n",
      "3   500.0          N  \n",
      "4    91.5          N  \n",
      "\n",
      "[5 rows x 21 columns]\n"
     ]
    }
   ],
   "source": [
    "print(data.head())"
   ]
  },
  {
   "cell_type": "markdown",
   "metadata": {},
   "source": [
    "**(3)** Print the shape of the data. Shape means the dimensions of the data. (In Python, *pandas* dataframe instances have a variable *shape*)"
   ]
  },
  {
   "cell_type": "code",
   "execution_count": 21,
   "metadata": {},
   "outputs": [
    {
     "name": "stdout",
     "output_type": "stream",
     "text": [
      "(322, 21)\n"
     ]
    }
   ],
   "source": [
    "print(data.shape)"
   ]
  },
  {
   "cell_type": "markdown",
   "metadata": {},
   "source": [
    "**(4)** Does the data have any missing values? How many are missing? (In *pandas*, check out *isnull()* and *isnumll().sum()*)"
   ]
  },
  {
   "cell_type": "code",
   "execution_count": 22,
   "metadata": {},
   "outputs": [
    {
     "name": "stdout",
     "output_type": "stream",
     "text": [
      "Player        0\n",
      "AtBat         0\n",
      "Hits          0\n",
      "HmRun         0\n",
      "Runs          0\n",
      "RBI           0\n",
      "Walks         0\n",
      "Years         0\n",
      "CAtBat        0\n",
      "CHits         0\n",
      "CHmRun        0\n",
      "CRuns         0\n",
      "CRBI          0\n",
      "CWalks        0\n",
      "League        0\n",
      "Division      0\n",
      "PutOuts       0\n",
      "Assists       0\n",
      "Errors        0\n",
      "Salary       59\n",
      "NewLeague     0\n",
      "dtype: int64\n"
     ]
    }
   ],
   "source": [
    "print(pd.isnull(data).sum())"
   ]
  },
  {
   "cell_type": "markdown",
   "metadata": {},
   "source": [
    "There seems to be 59 missing values for the 'Salary' attribute."
   ]
  },
  {
   "cell_type": "markdown",
   "metadata": {},
   "source": [
    "**(5)** Drop all the rows with any missing data. (In *pandas*, check out *dropna(). dropna()* accepts an argument *inplace*, check out what it does and when it comes in handy.)"
   ]
  },
  {
   "cell_type": "code",
   "execution_count": 23,
   "metadata": {},
   "outputs": [
    {
     "name": "stdout",
     "output_type": "stream",
     "text": [
      "Player       0\n",
      "AtBat        0\n",
      "Hits         0\n",
      "HmRun        0\n",
      "Runs         0\n",
      "RBI          0\n",
      "Walks        0\n",
      "Years        0\n",
      "CAtBat       0\n",
      "CHits        0\n",
      "CHmRun       0\n",
      "CRuns        0\n",
      "CRBI         0\n",
      "CWalks       0\n",
      "League       0\n",
      "Division     0\n",
      "PutOuts      0\n",
      "Assists      0\n",
      "Errors       0\n",
      "Salary       0\n",
      "NewLeague    0\n",
      "dtype: int64\n"
     ]
    }
   ],
   "source": [
    "data.dropna(subset=['Salary'], inplace=True)\n",
    "print(pd.isnull(data).sum())"
   ]
  },
  {
   "cell_type": "markdown",
   "metadata": {},
   "source": [
    "**(6)** Extract the features and the label from the data. Our label is *NewLeague* and all the others are consider features. "
   ]
  },
  {
   "cell_type": "code",
   "execution_count": 28,
   "metadata": {},
   "outputs": [
    {
     "name": "stdout",
     "output_type": "stream",
     "text": [
      "1      N\n",
      "2      A\n",
      "3      N\n",
      "4      N\n",
      "5      A\n",
      "      ..\n",
      "317    N\n",
      "318    A\n",
      "319    A\n",
      "320    A\n",
      "321    A\n",
      "Name: NewLeague, Length: 263, dtype: object\n",
      "                Player  AtBat  Hits  HmRun  Runs  RBI  Walks  Years  CAtBat  \\\n",
      "1          -Alan Ashby    315    81      7    24   38     39     14    3449   \n",
      "2         -Alvin Davis    479   130     18    66   72     76      3    1624   \n",
      "3        -Andre Dawson    496   141     20    65   78     37     11    5628   \n",
      "4    -Andres Galarraga    321    87     10    39   42     30      2     396   \n",
      "5     -Alfredo Griffin    594   169      4    74   51     35     11    4408   \n",
      "..                 ...    ...   ...    ...   ...  ...    ...    ...     ...   \n",
      "317      -Willie McGee    497   127      7    65   48     37      5    2703   \n",
      "318   -Willie Randolph    492   136      5    76   50     94     12    5511   \n",
      "319    -Wayne Tolleson    475   126      3    61   43     52      6    1700   \n",
      "320     -Willie Upshaw    573   144      9    85   60     78      8    3198   \n",
      "321     -Willie Wilson    631   170      9    77   44     31     11    4908   \n",
      "\n",
      "     CHits  CHmRun  CRuns  CRBI  CWalks League Division  PutOuts  Assists  \\\n",
      "1      835      69    321   414     375      N        W      632       43   \n",
      "2      457      63    224   266     263      A        W      880       82   \n",
      "3     1575     225    828   838     354      N        E      200       11   \n",
      "4      101      12     48    46      33      N        E      805       40   \n",
      "5     1133      19    501   336     194      A        W      282      421   \n",
      "..     ...     ...    ...   ...     ...    ...      ...      ...      ...   \n",
      "317    806      32    379   311     138      N        E      325        9   \n",
      "318   1511      39    897   451     875      A        E      313      381   \n",
      "319    433       7    217    93     146      A        W       37      113   \n",
      "320    857      97    470   420     332      A        E     1314      131   \n",
      "321   1457      30    775   357     249      A        W      408        4   \n",
      "\n",
      "     Errors  Salary  \n",
      "1        10   475.0  \n",
      "2        14   480.0  \n",
      "3         3   500.0  \n",
      "4         4    91.5  \n",
      "5        25   750.0  \n",
      "..      ...     ...  \n",
      "317       3   700.0  \n",
      "318      20   875.0  \n",
      "319       7   385.0  \n",
      "320      12   960.0  \n",
      "321       3  1000.0  \n",
      "\n",
      "[263 rows x 20 columns]\n"
     ]
    }
   ],
   "source": [
    "y = data['NewLeague']\n",
    "print(y)\n",
    "x = data.drop(['NewLeague'], axis=1)\n",
    "print(x)"
   ]
  },
  {
   "cell_type": "markdown",
   "metadata": {},
   "source": [
    "**(7)** We want to do one hot encoding. To do so, we first need to separate numerical columns from nonnumerical columns. (In *pandas* check out *.select_dtypes(exclude=['int64', 'float64'])* and *.select_dtypes(include=['int64', 'float64'])*). Afterwards, use get *dummies* for transforming to categorical. Then concat both parths *(pd.concat())*. "
   ]
  },
  {
   "cell_type": "code",
   "execution_count": 25,
   "metadata": {},
   "outputs": [
    {
     "name": "stdout",
     "output_type": "stream",
     "text": [
      "     AtBat  Hits  HmRun  Runs  RBI  Walks  Years  CAtBat  CHits  CHmRun  \\\n",
      "1      315    81      7    24   38     39     14    3449    835      69   \n",
      "2      479   130     18    66   72     76      3    1624    457      63   \n",
      "3      496   141     20    65   78     37     11    5628   1575     225   \n",
      "4      321    87     10    39   42     30      2     396    101      12   \n",
      "5      594   169      4    74   51     35     11    4408   1133      19   \n",
      "..     ...   ...    ...   ...  ...    ...    ...     ...    ...     ...   \n",
      "317    497   127      7    65   48     37      5    2703    806      32   \n",
      "318    492   136      5    76   50     94     12    5511   1511      39   \n",
      "319    475   126      3    61   43     52      6    1700    433       7   \n",
      "320    573   144      9    85   60     78      8    3198    857      97   \n",
      "321    631   170      9    77   44     31     11    4908   1457      30   \n",
      "\n",
      "     CRuns  CRBI  CWalks  PutOuts  Assists  Errors  Salary  \n",
      "1      321   414     375      632       43      10   475.0  \n",
      "2      224   266     263      880       82      14   480.0  \n",
      "3      828   838     354      200       11       3   500.0  \n",
      "4       48    46      33      805       40       4    91.5  \n",
      "5      501   336     194      282      421      25   750.0  \n",
      "..     ...   ...     ...      ...      ...     ...     ...  \n",
      "317    379   311     138      325        9       3   700.0  \n",
      "318    897   451     875      313      381      20   875.0  \n",
      "319    217    93     146       37      113       7   385.0  \n",
      "320    470   420     332     1314      131      12   960.0  \n",
      "321    775   357     249      408        4       3  1000.0  \n",
      "\n",
      "[263 rows x 17 columns]\n",
      "     Player_-Al Newman  Player_-Alan Ashby  Player_-Alan Trammell  \\\n",
      "1                    0                   1                      0   \n",
      "2                    0                   0                      0   \n",
      "3                    0                   0                      0   \n",
      "4                    0                   0                      0   \n",
      "5                    0                   0                      0   \n",
      "..                 ...                 ...                    ...   \n",
      "317                  0                   0                      0   \n",
      "318                  0                   0                      0   \n",
      "319                  0                   0                      0   \n",
      "320                  0                   0                      0   \n",
      "321                  0                   0                      0   \n",
      "\n",
      "     Player_-Alan Wiggins  Player_-Alex Trevino  Player_-Alfredo Griffin  \\\n",
      "1                       0                     0                        0   \n",
      "2                       0                     0                        0   \n",
      "3                       0                     0                        0   \n",
      "4                       0                     0                        0   \n",
      "5                       0                     0                        1   \n",
      "..                    ...                   ...                      ...   \n",
      "317                     0                     0                        0   \n",
      "318                     0                     0                        0   \n",
      "319                     0                     0                        0   \n",
      "320                     0                     0                        0   \n",
      "321                     0                     0                        0   \n",
      "\n",
      "     Player_-Alvin Davis  Player_-Andre Dawson  Player_-Andre Thornton  \\\n",
      "1                      0                     0                       0   \n",
      "2                      1                     0                       0   \n",
      "3                      0                     1                       0   \n",
      "4                      0                     0                       0   \n",
      "5                      0                     0                       0   \n",
      "..                   ...                   ...                     ...   \n",
      "317                    0                     0                       0   \n",
      "318                    0                     0                       0   \n",
      "319                    0                     0                       0   \n",
      "320                    0                     0                       0   \n",
      "321                    0                     0                       0   \n",
      "\n",
      "     Player_-Andres Galarraga  ...  Player_-Willie McGee  \\\n",
      "1                           0  ...                     0   \n",
      "2                           0  ...                     0   \n",
      "3                           0  ...                     0   \n",
      "4                           1  ...                     0   \n",
      "5                           0  ...                     0   \n",
      "..                        ...  ...                   ...   \n",
      "317                         0  ...                     1   \n",
      "318                         0  ...                     0   \n",
      "319                         0  ...                     0   \n",
      "320                         0  ...                     0   \n",
      "321                         0  ...                     0   \n",
      "\n",
      "     Player_-Willie Randolph  Player_-Willie Upshaw  Player_-Willie Wilson  \\\n",
      "1                          0                      0                      0   \n",
      "2                          0                      0                      0   \n",
      "3                          0                      0                      0   \n",
      "4                          0                      0                      0   \n",
      "5                          0                      0                      0   \n",
      "..                       ...                    ...                    ...   \n",
      "317                        0                      0                      0   \n",
      "318                        1                      0                      0   \n",
      "319                        0                      0                      0   \n",
      "320                        0                      1                      0   \n",
      "321                        0                      0                      1   \n",
      "\n",
      "     League_A  League_N  Division_E  Division_W  NewLeague_A  NewLeague_N  \n",
      "1           0         1           0           1            0            1  \n",
      "2           1         0           0           1            1            0  \n",
      "3           0         1           1           0            0            1  \n",
      "4           0         1           1           0            0            1  \n",
      "5           1         0           0           1            1            0  \n",
      "..        ...       ...         ...         ...          ...          ...  \n",
      "317         0         1           1           0            0            1  \n",
      "318         1         0           1           0            1            0  \n",
      "319         1         0           0           1            1            0  \n",
      "320         1         0           1           0            1            0  \n",
      "321         1         0           0           1            1            0  \n",
      "\n",
      "[263 rows x 269 columns]\n"
     ]
    }
   ],
   "source": [
    "numeric = data.select_dtypes(include=['int64', 'float64'])\n",
    "print(numeric)\n",
    "non_numeric = pd.get_dummies(data.select_dtypes(exclude=['int64', 'float64']))\n",
    "print(non_numeric)"
   ]
  },
  {
   "cell_type": "markdown",
   "metadata": {},
   "source": [
    "**(8)** Transform the output into numerical format. If you have selected the label as a *pandas* series, you can use *.replace()* function. In the label, transform 'A' to 0 and 'N' to 1."
   ]
  },
  {
   "cell_type": "code",
   "execution_count": 30,
   "metadata": {},
   "outputs": [
    {
     "name": "stdout",
     "output_type": "stream",
     "text": [
      "1      1\n",
      "2      0\n",
      "3      1\n",
      "4      1\n",
      "5      0\n",
      "      ..\n",
      "317    1\n",
      "318    0\n",
      "319    0\n",
      "320    0\n",
      "321    0\n",
      "Name: NewLeague, Length: 263, dtype: int64\n"
     ]
    }
   ],
   "source": [
    "y = y.replace('N',1).replace('A',0)\n",
    "print(y)"
   ]
  }
 ],
 "metadata": {
  "kernelspec": {
   "display_name": "Python 3",
   "language": "python",
   "name": "python3"
  },
  "language_info": {
   "codemirror_mode": {
    "name": "ipython",
    "version": 3
   },
   "file_extension": ".py",
   "mimetype": "text/x-python",
   "name": "python",
   "nbconvert_exporter": "python",
   "pygments_lexer": "ipython3",
   "version": "3.7.4"
  }
 },
 "nbformat": 4,
 "nbformat_minor": 4
}
