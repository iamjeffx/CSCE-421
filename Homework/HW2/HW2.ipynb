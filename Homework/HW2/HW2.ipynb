{
 "cells": [
  {
   "cell_type": "markdown",
   "metadata": {},
   "source": [
    "# Homework 2\n",
    "\n",
    "### Jeffrey Xu\n",
    "### Professor Mortazavi\n",
    "### 09/21/2020"
   ]
  },
  {
   "cell_type": "markdown",
   "metadata": {},
   "source": [
    "## Problem 1: \n",
    "In this question, we will learn about data preprocessing. More specifically, we want to prepare the data\n",
    "so that it will be ready for being fed into a machine learning model. Generally, the data contains missing\n",
    "values and also has categorical (non-numerical) values. We will learn how to prepare such data.\n",
    "The dataset we will use in this assignment is called Hitters (can be downloaded from https://github.com/jcrouser/islrpython/blob/master/data/Hitters.csv).\n",
    "Your submission should include a script which can be run seamlessly and performs all the following\n",
    "steps one after another. Any submission with a runtime error would result in lost points.\n",
    "\n",
    "**You may use libraries and you do not need to implement anything from scratch.**\n",
    "\n",
    "**(1)** Download and read the data. For Python, you may use *pandas* library and use *read csv* function. "
   ]
  },
  {
   "cell_type": "code",
   "execution_count": 43,
   "metadata": {},
   "outputs": [],
   "source": [
    "import pandas as pd\n",
    "\n",
    "data = pd.read_csv(\"Hitters.csv\")"
   ]
  },
  {
   "cell_type": "markdown",
   "metadata": {},
   "source": [
    "**(2)** Print the data. How does the data look like? (For Python, you may use *head()* function in *pandas* library)"
   ]
  },
  {
   "cell_type": "code",
   "execution_count": 44,
   "metadata": {},
   "outputs": [
    {
     "name": "stdout",
     "output_type": "stream",
     "text": [
      "              Player  AtBat  Hits  HmRun  Runs  RBI  Walks  Years  CAtBat  \\\n",
      "0     -Andy Allanson    293    66      1    30   29     14      1     293   \n",
      "1        -Alan Ashby    315    81      7    24   38     39     14    3449   \n",
      "2       -Alvin Davis    479   130     18    66   72     76      3    1624   \n",
      "3      -Andre Dawson    496   141     20    65   78     37     11    5628   \n",
      "4  -Andres Galarraga    321    87     10    39   42     30      2     396   \n",
      "\n",
      "   CHits  ...  CRuns  CRBI  CWalks  League Division PutOuts  Assists  Errors  \\\n",
      "0     66  ...     30    29      14       A        E     446       33      20   \n",
      "1    835  ...    321   414     375       N        W     632       43      10   \n",
      "2    457  ...    224   266     263       A        W     880       82      14   \n",
      "3   1575  ...    828   838     354       N        E     200       11       3   \n",
      "4    101  ...     48    46      33       N        E     805       40       4   \n",
      "\n",
      "   Salary  NewLeague  \n",
      "0     NaN          A  \n",
      "1   475.0          N  \n",
      "2   480.0          A  \n",
      "3   500.0          N  \n",
      "4    91.5          N  \n",
      "\n",
      "[5 rows x 21 columns]\n"
     ]
    }
   ],
   "source": [
    "print(data.head())"
   ]
  },
  {
   "cell_type": "markdown",
   "metadata": {},
   "source": [
    "**(3)** Print the shape of the data. Shape means the dimensions of the data. (In Python, *pandas* dataframe instances have a variable *shape*)"
   ]
  },
  {
   "cell_type": "code",
   "execution_count": 45,
   "metadata": {},
   "outputs": [
    {
     "name": "stdout",
     "output_type": "stream",
     "text": [
      "(322, 21)\n"
     ]
    }
   ],
   "source": [
    "print(data.shape)"
   ]
  },
  {
   "cell_type": "markdown",
   "metadata": {},
   "source": [
    "**(4)** Does the data have any missing values? How many are missing? (In *pandas*, check out *isnull()* and *isnumll().sum()*)"
   ]
  },
  {
   "cell_type": "code",
   "execution_count": 46,
   "metadata": {},
   "outputs": [
    {
     "name": "stdout",
     "output_type": "stream",
     "text": [
      "Player        0\n",
      "AtBat         0\n",
      "Hits          0\n",
      "HmRun         0\n",
      "Runs          0\n",
      "RBI           0\n",
      "Walks         0\n",
      "Years         0\n",
      "CAtBat        0\n",
      "CHits         0\n",
      "CHmRun        0\n",
      "CRuns         0\n",
      "CRBI          0\n",
      "CWalks        0\n",
      "League        0\n",
      "Division      0\n",
      "PutOuts       0\n",
      "Assists       0\n",
      "Errors        0\n",
      "Salary       59\n",
      "NewLeague     0\n",
      "dtype: int64\n"
     ]
    }
   ],
   "source": [
    "print(pd.isnull(data).sum())"
   ]
  },
  {
   "cell_type": "markdown",
   "metadata": {},
   "source": [
    "There seems to be 59 missing values for the 'Salary' attribute."
   ]
  },
  {
   "cell_type": "markdown",
   "metadata": {},
   "source": [
    "**(5)** Drop all the rows with any missing data. (In *pandas*, check out *dropna(). dropna()* accepts an argument *inplace*, check out what it does and when it comes in handy.)"
   ]
  },
  {
   "cell_type": "code",
   "execution_count": 50,
   "metadata": {},
   "outputs": [
    {
     "name": "stdout",
     "output_type": "stream",
     "text": [
      "                Player  AtBat  Hits  HmRun  Runs  RBI  Walks  Years  CAtBat  \\\n",
      "1          -Alan Ashby    315    81      7    24   38     39     14    3449   \n",
      "2         -Alvin Davis    479   130     18    66   72     76      3    1624   \n",
      "3        -Andre Dawson    496   141     20    65   78     37     11    5628   \n",
      "4    -Andres Galarraga    321    87     10    39   42     30      2     396   \n",
      "5     -Alfredo Griffin    594   169      4    74   51     35     11    4408   \n",
      "..                 ...    ...   ...    ...   ...  ...    ...    ...     ...   \n",
      "317      -Willie McGee    497   127      7    65   48     37      5    2703   \n",
      "318   -Willie Randolph    492   136      5    76   50     94     12    5511   \n",
      "319    -Wayne Tolleson    475   126      3    61   43     52      6    1700   \n",
      "320     -Willie Upshaw    573   144      9    85   60     78      8    3198   \n",
      "321     -Willie Wilson    631   170      9    77   44     31     11    4908   \n",
      "\n",
      "     CHits  ...  CRuns  CRBI  CWalks  League Division PutOuts  Assists  \\\n",
      "1      835  ...    321   414     375       N        W     632       43   \n",
      "2      457  ...    224   266     263       A        W     880       82   \n",
      "3     1575  ...    828   838     354       N        E     200       11   \n",
      "4      101  ...     48    46      33       N        E     805       40   \n",
      "5     1133  ...    501   336     194       A        W     282      421   \n",
      "..     ...  ...    ...   ...     ...     ...      ...     ...      ...   \n",
      "317    806  ...    379   311     138       N        E     325        9   \n",
      "318   1511  ...    897   451     875       A        E     313      381   \n",
      "319    433  ...    217    93     146       A        W      37      113   \n",
      "320    857  ...    470   420     332       A        E    1314      131   \n",
      "321   1457  ...    775   357     249       A        W     408        4   \n",
      "\n",
      "     Errors  Salary  NewLeague  \n",
      "1        10   475.0          N  \n",
      "2        14   480.0          A  \n",
      "3         3   500.0          N  \n",
      "4         4    91.5          N  \n",
      "5        25   750.0          A  \n",
      "..      ...     ...        ...  \n",
      "317       3   700.0          N  \n",
      "318      20   875.0          A  \n",
      "319       7   385.0          A  \n",
      "320      12   960.0          A  \n",
      "321       3  1000.0          A  \n",
      "\n",
      "[263 rows x 21 columns]\n"
     ]
    }
   ],
   "source": [
    "data.dropna(subset=['Salary'], inplace=True)\n",
    "print(data)"
   ]
  },
  {
   "cell_type": "markdown",
   "metadata": {},
   "source": [
    "**(6)** Extract the features and the label from the data. Our label is *NewLeague* and all the others are consider features. "
   ]
  },
  {
   "cell_type": "code",
   "execution_count": 51,
   "metadata": {},
   "outputs": [],
   "source": [
    "labels = data['NewLeague']\n"
   ]
  }
 ],
 "metadata": {
  "kernelspec": {
   "display_name": "Python 3",
   "language": "python",
   "name": "python3"
  },
  "language_info": {
   "codemirror_mode": {
    "name": "ipython",
    "version": 3
   },
   "file_extension": ".py",
   "mimetype": "text/x-python",
   "name": "python",
   "nbconvert_exporter": "python",
   "pygments_lexer": "ipython3",
   "version": "3.7.4"
  }
 },
 "nbformat": 4,
 "nbformat_minor": 4
}
